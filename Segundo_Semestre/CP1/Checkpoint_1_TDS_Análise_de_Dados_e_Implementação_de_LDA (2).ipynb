{
  "cells": [
    {
      "cell_type": "markdown",
      "metadata": {
        "id": "aZa-rub9lCZ_"
      },
      "source": [
        "📌 Objetivo: O aluno deverá criar um dataset, manipular os dados, extrair características estatísticas, apresentar visualizações gráficas e implementar um modelo de LDA para classificação.\n",
        "\n",
        "📌 Valor: 0 a 10 pontos\n",
        "\n",
        "📌 Habilidades envolvidas:\n",
        "\n",
        "* Manipulação e criação de datasets\n",
        "* Estatística descritiva\n",
        "* Visualização de dados (Seaborn e Matplotlib)\n",
        "* Implementação de um modelo de Machine Learning (LDA)\n",
        "* Análise de resultados\n",
        "\n",
        "**Entrega e Formato**\n",
        "O aluno deve entregar **um arquivo Jupyter Notebook (.ipynb)** com o código organizado e comentado.\n",
        "Deve haver uma explicação textual de cada etapa do processo.\n",
        "\n",
        "📌 Pontuação final (0 a 10 pontos)\n",
        "\n",
        "* 3 pontos: Criação e manipulação de dados.\n",
        "* 3 pontos: Estatística descritiva e visualização.\n",
        "* 4 pontos: Implementação do modelo LDA."
      ]
    },
    {
      "cell_type": "code",
      "execution_count": 1,
      "metadata": {
        "id": "CNGkc4oam07C"
      },
      "outputs": [],
      "source": [
        "#@title Coloque os nomes e RM's dos integrantes aqui!\n",
        "#RM560485 - Cleyton Enrike de Oliveira\n",
        "#RM560442 - Matheus Henrique Nascimento de Freitas\n",
        "#RM561178 - Pedro Henrique de Souza Sena\n"
      ]
    },
    {
      "cell_type": "markdown",
      "metadata": {
        "id": "d8kODjkOlMij"
      },
      "source": [
        "**Parte 1: Criação e Manipulação do Dataset (3 pontos)**\n",
        "\n",
        "O aluno deve criar um dataset sintético com pelo menos 200 amostras e 4 variáveis numéricas independentes (features) mais 1 variável categórica (classe) com pelo menos 3 categorias.\n",
        "\n",
        "Deve utilizar Pandas e NumPy para criar e manipular os dados.\n",
        "O dataset deve ser salvo em um arquivo CSV.\n",
        "\n",
        "✅ Critérios de avaliação:\n",
        "\n",
        "(1.0) Criou um dataset com a estrutura correta.\n",
        "\n",
        "(1.0) Utilizou Pandas e NumPy corretamente.\n",
        "\n",
        "(1.0) Salvou e carregou o dataset no formato CSV corretamente."
      ]
    },
    {
      "cell_type": "code",
      "execution_count": 3,
      "metadata": {},
      "outputs": [
        {
          "name": "stdout",
          "output_type": "stream",
          "text": [
            "C:\\Users\\pedro\\AppData\\Local\\Microsoft\\WindowsApps\\PythonSoftwareFoundation.Python.3.11_qbz5n2kfra8p0\\python.exe\n"
          ]
        }
      ],
      "source": [
        "import sys\n",
        "print(sys.executable)\n"
      ]
    },
    {
      "cell_type": "code",
      "execution_count": 1,
      "metadata": {
        "id": "TNCxu4uMlS0B"
      },
      "outputs": [
        {
          "ename": "ModuleNotFoundError",
          "evalue": "No module named 'numpy'",
          "output_type": "error",
          "traceback": [
            "\u001b[1;31m---------------------------------------------------------------------------\u001b[0m",
            "\u001b[1;31mModuleNotFoundError\u001b[0m                       Traceback (most recent call last)",
            "Cell \u001b[1;32mIn[1], line 3\u001b[0m\n\u001b[0;32m      1\u001b[0m \u001b[38;5;66;03m#@title Responda Aqui\u001b[39;00m\n\u001b[1;32m----> 3\u001b[0m \u001b[38;5;28;01mimport\u001b[39;00m \u001b[38;5;21;01mnumpy\u001b[39;00m \u001b[38;5;28;01mas\u001b[39;00m \u001b[38;5;21;01mnp\u001b[39;00m\n\u001b[0;32m      4\u001b[0m \u001b[38;5;28;01mimport\u001b[39;00m \u001b[38;5;21;01mpandas\u001b[39;00m \u001b[38;5;28;01mas\u001b[39;00m \u001b[38;5;21;01mpd\u001b[39;00m\n\u001b[0;32m      5\u001b[0m \u001b[38;5;28;01mimport\u001b[39;00m \u001b[38;5;21;01mmatplotlib\u001b[39;00m\u001b[38;5;21;01m.\u001b[39;00m\u001b[38;5;21;01mpyplot\u001b[39;00m \u001b[38;5;28;01mas\u001b[39;00m \u001b[38;5;21;01mplt\u001b[39;00m\n",
            "\u001b[1;31mModuleNotFoundError\u001b[0m: No module named 'numpy'"
          ]
        }
      ],
      "source": [
        "#@title Responda Aqui\n",
        "\n",
        "import numpy as np\n",
        "import pandas as pd\n",
        "import matplotlib.pyplot as plt\n",
        "import seaborn as sns\n",
        "\n",
        "dataset = pd.read_csv(\"filme.csv\", sep=\",\")\n",
        "\n",
        "dataset.head()\n",
        "\n",
        "## variaveis numericas - id, ano, nota, tempo em min\n",
        "## categorica - genero"
      ]
    },
    {
      "cell_type": "markdown",
      "metadata": {
        "id": "NEpbU3EaliEK"
      },
      "source": [
        "**Parte 2: Estatística Descritiva e Visualização de Dados (3 pontos)**\n",
        "\n",
        "O aluno deve calcular as estatísticas descritivas das variáveis numéricas do dataset, incluindo:\n",
        "Média, mediana, desvio padrão, quartis, valores máximos e mínimos.\n",
        "Criar pelo menos três gráficos diferentes utilizando Seaborn e Matplotlib para visualizar os dados:\n",
        "* Histograma ou Boxplot para distribuição dos dados.\n",
        "* Gráfico de dispersão (scatter plot) entre duas variáveis.\n",
        "* Mapa de calor (heatmap) para visualizar a correlação entre as variáveis.\n",
        "\n",
        "✅ Critérios de avaliação:\n",
        "\n",
        "(1.0) Estatísticas descritivas corretas e bem interpretadas.\n",
        "\n",
        "(1.0) Gráficos bem construídos e interpretados.\n",
        "\n",
        "(1.0) Uso correto do Seaborn e Matplotlib."
      ]
    },
    {
      "cell_type": "code",
      "execution_count": 9,
      "metadata": {
        "id": "xR13Pi4Okyzv"
      },
      "outputs": [
        {
          "name": "stdout",
          "output_type": "stream",
          "text": [
            "count    153.000000\n",
            "mean       6.477124\n",
            "std        2.345446\n",
            "min        2.000000\n",
            "25%        5.000000\n",
            "50%        7.000000\n",
            "75%        8.000000\n",
            "max       10.000000\n",
            "Name: nota, dtype: float64\n",
            "Desvio Padrão: 2.3454462242942324\n"
          ]
        },
        {
          "data": {
            "text/plain": [
              "<Axes: xlabel='nota'>"
            ]
          },
          "execution_count": 9,
          "metadata": {},
          "output_type": "execute_result"
        },
        {
          "data": {
            "image/png": "[encoded data removed]",
            "text/plain": [
              "<Figure size 640x480 with 1 Axes>"
            ]
          },
          "metadata": {},
          "output_type": "display_data"
        }
      ],
      "source": [
        "#@title Responda Aqui   \n",
        "\n",
        "dataset2 = dataset['nota'].describe() ## 1. exibe a média, 2. Mediana, 3. Mínimo, 4. Quartil (25, 50, 75), 5. Máximo\n",
        "print(dataset2)\n",
        "\n",
        "print(\"Desvio Padrão:\",dataset['nota'].std()) ## calculando o desvio padrão\n",
        "\n",
        "## gráficos\n",
        "sns.boxplot(dataset['nota'], orient='h')\n"
      ]
    },
    {
      "cell_type": "code",
      "execution_count": 10,
      "metadata": {},
      "outputs": [
        {
          "name": "stdout",
          "output_type": "stream",
          "text": [
            "filmeId           int64\n",
            "titulo           object\n",
            "ano               int64\n",
            "nota              int64\n",
            "tempo_minutos     int64\n",
            "generos          object\n",
            "dtype: object\n"
          ]
        }
      ],
      "source": [
        "print(dataset.dtypes)"
      ]
    },
    {
      "cell_type": "code",
      "execution_count": 21,
      "metadata": {},
      "outputs": [],
      "source": [
        "dataset['generos'].unique()\n",
        "genero = dataset['generos'].value_counts()\n"
      ]
    },
    {
      "cell_type": "code",
      "execution_count": 31,
      "metadata": {},
      "outputs": [
        {
          "data": {
            "image/png": "[encoded data removed]",
            "text/plain": [
              "<Figure size 640x480 with 1 Axes>"
            ]
          },
          "metadata": {},
          "output_type": "display_data"
        }
      ],
      "source": [
        "import matplotlib.pyplot as plt\n",
        "\n",
        "# Gerando o gráfico de dispersão entre ano e nota\n",
        "plt.scatter(dataset['tempo_minutos'], dataset['nota'], color='blue', label=\"Ano vs Nota\")\n",
        "\n",
        "# Ajustando o gráfico\n",
        "plt.xlabel('Tempo')\n",
        "plt.ylabel('Nota')\n",
        "plt.title('Relação entre Tempo e Nota dos Filmes')\n",
        "plt.legend()\n",
        "plt.show()\n"
      ]
    },
    {
      "cell_type": "code",
      "execution_count": 32,
      "metadata": {},
      "outputs": [
        {
          "data": {
            "image/png": "[encoded data removed]",
            "text/plain": [
              "<Figure size 1000x800 with 2 Axes>"
            ]
          },
          "metadata": {},
          "output_type": "display_data"
        }
      ],
      "source": [
        "import seaborn as sns\n",
        "import matplotlib.pyplot as plt\n",
        "\n",
        "# Selecionando apenas as colunas numéricas\n",
        "dataset_numerico = dataset.select_dtypes(include=['float64', 'int64'])\n",
        "\n",
        "# Calculando a correlação entre as variáveis numéricas\n",
        "correlacao = dataset_numerico.corr()\n",
        "\n",
        "# Gerando o mapa de calor\n",
        "plt.figure(figsize=(10, 8))\n",
        "sns.heatmap(correlacao, annot=True, cmap='coolwarm', fmt='.2f', cbar=True, square=True)\n",
        "\n",
        "# Ajustando o gráfico\n",
        "plt.title('Mapa de Calor - Correlação entre as Variáveis')\n",
        "plt.show()\n"
      ]
    },
    {
      "cell_type": "markdown",
      "metadata": {
        "id": "NaH_2J-jlzeH"
      },
      "source": [
        "**Parte 3: Implementação do Modelo LDA (4 pontos)**\n",
        "\n",
        "Utilizar o Linear Discriminant Analysis (LDA) do sklearn para classificar as amostras.\n",
        "* Separar os dados em treino (70%) e teste (30%).\n",
        "* Treinar o modelo e realizar previsões sobre os dados de teste.\n",
        "* Apresentar os seguintes resultados:\n",
        "  * Matriz de confusão (usando confusion_matrix do sklearn.metrics).\n",
        "  * Gráfico de dispersão das classes após transformação LDA para redução de dimensionalidade.\n",
        "  * Acurácia do modelo.\n",
        "\n",
        "✅ Critérios de avaliação:\n",
        "\n",
        "(1.0) Implementação correta do LDA e separação treino/teste.\n",
        "\n",
        "(1.0) Apresentação da matriz de confusão.\n",
        "\n",
        "(1.0) Gráfico da transformação LDA bem interpretado.\n",
        "\n",
        "(1.0) Cálculo da acurácia do modelo."
      ]
    },
    {
      "cell_type": "code",
      "execution_count": 48,
      "metadata": {
        "id": "2FREB_oDmOPv"
      },
      "outputs": [],
      "source": [
        "#@title Responda Aqui\n",
        "from sklearn.model_selection import train_test_split\n",
        "\n",
        "dataset[['titulo','generos']]\n",
        "\n",
        "## colunas preditivas\n",
        "x = dataset.drop(columns = ['titulo', 'generos'])\n",
        "y = dataset['nota']\n",
        "\n",
        "x_train, x_test, y_train, y_test = train_test_split(x, y, test_size = 0.3, random_state = 42)\n"
      ]
    },
    {
      "cell_type": "code",
      "execution_count": 49,
      "metadata": {},
      "outputs": [
        {
          "data": {
            "text/plain": [
              "108    8\n",
              "90     4\n",
              "104    4\n",
              "16     8\n",
              "111    5\n",
              "Name: nota, dtype: int64"
            ]
          },
          "execution_count": 49,
          "metadata": {},
          "output_type": "execute_result"
        }
      ],
      "source": [
        "y_train.head()"
      ]
    },
    {
      "cell_type": "code",
      "execution_count": 50,
      "metadata": {},
      "outputs": [],
      "source": [
        "from sklearn.discriminant_analysis import LinearDiscriminantAnalysis\n",
        "\n",
        "# Criando o objeto do classificador\n",
        "lda_model = LinearDiscriminantAnalysis()  # Mudamos o nome para lda_model\n",
        "\n",
        "# Treinando o classificador com os dados de treinamento\n",
        "lda_model.fit(x_train, y_train)\n",
        "\n",
        "# Você pode agora fazer previsões usando lda_model\n",
        "y_pred = lda_model.predict(x_test)"
      ]
    },
    {
      "cell_type": "code",
      "execution_count": 52,
      "metadata": {},
      "outputs": [],
      "source": [
        "y_predicoes = lda_model.predict(x_test)"
      ]
    },
    {
      "cell_type": "code",
      "execution_count": 51,
      "metadata": {},
      "outputs": [],
      "source": [
        "## matriz de confusão\n",
        "from sklearn.metrics import confusion_matrix, ConfusionMatrixDisplay\n",
        "from sklearn.metrics import f1_score, accuracy_score, precision_score, recall_score, classification_report"
      ]
    },
    {
      "cell_type": "code",
      "execution_count": 56,
      "metadata": {},
      "outputs": [
        {
          "ename": "ValueError",
          "evalue": "At least one label specified must be in y_true",
          "output_type": "error",
          "traceback": [
            "\u001b[1;31m---------------------------------------------------------------------------\u001b[0m",
            "\u001b[1;31mValueError\u001b[0m                                Traceback (most recent call last)",
            "Cell \u001b[1;32mIn[56], line 2\u001b[0m\n\u001b[0;32m      1\u001b[0m \u001b[38;5;66;03m# Supondo que y_predicoes seja o resultado da previsão do modelo\u001b[39;00m\n\u001b[1;32m----> 2\u001b[0m matriz_confusao \u001b[38;5;241m=\u001b[39m \u001b[43mconfusion_matrix\u001b[49m\u001b[43m(\u001b[49m\u001b[43my_true\u001b[49m\u001b[43m \u001b[49m\u001b[38;5;241;43m=\u001b[39;49m\u001b[43m \u001b[49m\u001b[43my_test\u001b[49m\u001b[43m,\u001b[49m\u001b[43m \u001b[49m\u001b[43my_pred\u001b[49m\u001b[43m \u001b[49m\u001b[38;5;241;43m=\u001b[39;49m\u001b[43m \u001b[49m\u001b[43my_predicoes\u001b[49m\u001b[43m,\u001b[49m\u001b[43m \u001b[49m\u001b[43mlabels\u001b[49m\u001b[38;5;241;43m=\u001b[39;49m\u001b[43m[\u001b[49m\u001b[38;5;124;43m'\u001b[39;49m\u001b[38;5;124;43mCategoria1\u001b[39;49m\u001b[38;5;124;43m'\u001b[39;49m\u001b[43m,\u001b[49m\u001b[43m \u001b[49m\u001b[38;5;124;43m'\u001b[39;49m\u001b[38;5;124;43mCategoria2\u001b[39;49m\u001b[38;5;124;43m'\u001b[39;49m\u001b[43m,\u001b[49m\u001b[43m \u001b[49m\u001b[38;5;124;43m'\u001b[39;49m\u001b[38;5;124;43mCategoria3\u001b[39;49m\u001b[38;5;124;43m'\u001b[39;49m\u001b[43m]\u001b[49m\u001b[43m)\u001b[49m\n\u001b[0;32m      3\u001b[0m \u001b[38;5;28mprint\u001b[39m(matriz_confusao)\n",
            "File \u001b[1;32m~\\AppData\\Local\\Packages\\PythonSoftwareFoundation.Python.3.11_qbz5n2kfra8p0\\LocalCache\\local-packages\\Python311\\site-packages\\sklearn\\utils\\_param_validation.py:216\u001b[0m, in \u001b[0;36mvalidate_params.<locals>.decorator.<locals>.wrapper\u001b[1;34m(*args, **kwargs)\u001b[0m\n\u001b[0;32m    210\u001b[0m \u001b[38;5;28;01mtry\u001b[39;00m:\n\u001b[0;32m    211\u001b[0m     \u001b[38;5;28;01mwith\u001b[39;00m config_context(\n\u001b[0;32m    212\u001b[0m         skip_parameter_validation\u001b[38;5;241m=\u001b[39m(\n\u001b[0;32m    213\u001b[0m             prefer_skip_nested_validation \u001b[38;5;129;01mor\u001b[39;00m global_skip_validation\n\u001b[0;32m    214\u001b[0m         )\n\u001b[0;32m    215\u001b[0m     ):\n\u001b[1;32m--> 216\u001b[0m         \u001b[38;5;28;01mreturn\u001b[39;00m \u001b[43mfunc\u001b[49m\u001b[43m(\u001b[49m\u001b[38;5;241;43m*\u001b[39;49m\u001b[43margs\u001b[49m\u001b[43m,\u001b[49m\u001b[43m \u001b[49m\u001b[38;5;241;43m*\u001b[39;49m\u001b[38;5;241;43m*\u001b[39;49m\u001b[43mkwargs\u001b[49m\u001b[43m)\u001b[49m\n\u001b[0;32m    217\u001b[0m \u001b[38;5;28;01mexcept\u001b[39;00m InvalidParameterError \u001b[38;5;28;01mas\u001b[39;00m e:\n\u001b[0;32m    218\u001b[0m     \u001b[38;5;66;03m# When the function is just a wrapper around an estimator, we allow\u001b[39;00m\n\u001b[0;32m    219\u001b[0m     \u001b[38;5;66;03m# the function to delegate validation to the estimator, but we replace\u001b[39;00m\n\u001b[0;32m    220\u001b[0m     \u001b[38;5;66;03m# the name of the estimator by the name of the function in the error\u001b[39;00m\n\u001b[0;32m    221\u001b[0m     \u001b[38;5;66;03m# message to avoid confusion.\u001b[39;00m\n\u001b[0;32m    222\u001b[0m     msg \u001b[38;5;241m=\u001b[39m re\u001b[38;5;241m.\u001b[39msub(\n\u001b[0;32m    223\u001b[0m         \u001b[38;5;124mr\u001b[39m\u001b[38;5;124m\"\u001b[39m\u001b[38;5;124mparameter of \u001b[39m\u001b[38;5;124m\\\u001b[39m\u001b[38;5;124mw+ must be\u001b[39m\u001b[38;5;124m\"\u001b[39m,\n\u001b[0;32m    224\u001b[0m         \u001b[38;5;124mf\u001b[39m\u001b[38;5;124m\"\u001b[39m\u001b[38;5;124mparameter of \u001b[39m\u001b[38;5;132;01m{\u001b[39;00mfunc\u001b[38;5;241m.\u001b[39m\u001b[38;5;18m__qualname__\u001b[39m\u001b[38;5;132;01m}\u001b[39;00m\u001b[38;5;124m must be\u001b[39m\u001b[38;5;124m\"\u001b[39m,\n\u001b[0;32m    225\u001b[0m         \u001b[38;5;28mstr\u001b[39m(e),\n\u001b[0;32m    226\u001b[0m     )\n",
            "File \u001b[1;32m~\\AppData\\Local\\Packages\\PythonSoftwareFoundation.Python.3.11_qbz5n2kfra8p0\\LocalCache\\local-packages\\Python311\\site-packages\\sklearn\\metrics\\_classification.py:354\u001b[0m, in \u001b[0;36mconfusion_matrix\u001b[1;34m(y_true, y_pred, labels, sample_weight, normalize)\u001b[0m\n\u001b[0;32m    352\u001b[0m         \u001b[38;5;28;01mreturn\u001b[39;00m np\u001b[38;5;241m.\u001b[39mzeros((n_labels, n_labels), dtype\u001b[38;5;241m=\u001b[39m\u001b[38;5;28mint\u001b[39m)\n\u001b[0;32m    353\u001b[0m     \u001b[38;5;28;01melif\u001b[39;00m \u001b[38;5;28mlen\u001b[39m(np\u001b[38;5;241m.\u001b[39mintersect1d(y_true, labels)) \u001b[38;5;241m==\u001b[39m \u001b[38;5;241m0\u001b[39m:\n\u001b[1;32m--> 354\u001b[0m         \u001b[38;5;28;01mraise\u001b[39;00m \u001b[38;5;167;01mValueError\u001b[39;00m(\u001b[38;5;124m\"\u001b[39m\u001b[38;5;124mAt least one label specified must be in y_true\u001b[39m\u001b[38;5;124m\"\u001b[39m)\n\u001b[0;32m    356\u001b[0m \u001b[38;5;28;01mif\u001b[39;00m sample_weight \u001b[38;5;129;01mis\u001b[39;00m \u001b[38;5;28;01mNone\u001b[39;00m:\n\u001b[0;32m    357\u001b[0m     sample_weight \u001b[38;5;241m=\u001b[39m np\u001b[38;5;241m.\u001b[39mones(y_true\u001b[38;5;241m.\u001b[39mshape[\u001b[38;5;241m0\u001b[39m], dtype\u001b[38;5;241m=\u001b[39mnp\u001b[38;5;241m.\u001b[39mint64)\n",
            "\u001b[1;31mValueError\u001b[0m: At least one label specified must be in y_true"
          ]
        }
      ],
      "source": [
        "# Supondo que y_predicoes seja o resultado da previsão do modelo\n",
        "matriz_confusao = confusion_matrix(y_true = y_test, y_pred = y_predicoes, labels=['Categoria1', 'Categoria2', 'Categoria3'])\n",
        "print(matriz_confusao)\n"
      ]
    },
    {
      "cell_type": "code",
      "execution_count": 2,
      "metadata": {},
      "outputs": [
        {
          "ename": "ModuleNotFoundError",
          "evalue": "No module named 'numpy'",
          "output_type": "error",
          "traceback": [
            "\u001b[1;31m---------------------------------------------------------------------------\u001b[0m",
            "\u001b[1;31mModuleNotFoundError\u001b[0m                       Traceback (most recent call last)",
            "Cell \u001b[1;32mIn[2], line 1\u001b[0m\n\u001b[1;32m----> 1\u001b[0m \u001b[38;5;28;01mimport\u001b[39;00m \u001b[38;5;21;01mnumpy\u001b[39;00m \u001b[38;5;28;01mas\u001b[39;00m \u001b[38;5;21;01mnp\u001b[39;00m\n\u001b[0;32m      2\u001b[0m \u001b[38;5;28;01mimport\u001b[39;00m \u001b[38;5;21;01mpandas\u001b[39;00m \u001b[38;5;28;01mas\u001b[39;00m \u001b[38;5;21;01mpd\u001b[39;00m\n\u001b[0;32m      3\u001b[0m \u001b[38;5;28;01mimport\u001b[39;00m \u001b[38;5;21;01mmatplotlib\u001b[39;00m\u001b[38;5;21;01m.\u001b[39;00m\u001b[38;5;21;01mpyplot\u001b[39;00m \u001b[38;5;28;01mas\u001b[39;00m \u001b[38;5;21;01mplt\u001b[39;00m\n",
            "\u001b[1;31mModuleNotFoundError\u001b[0m: No module named 'numpy'"
          ]
        }
      ],
      "source": [
        "import numpy as np\n",
        "import pandas as pd\n",
        "import matplotlib.pyplot as plt\n",
        "import seaborn as sns\n",
        "from sklearn.model_selection import train_test_split\n",
        "from sklearn.linear_model import LogisticRegression\n",
        "from sklearn.metrics import confusion_matrix, ConfusionMatrixDisplay\n",
        "\n",
        "# Carregar o dataset\n",
        "dataset = pd.read_csv(\"filme.csv\", sep=\",\")\n",
        "\n",
        "# Exibir o cabeçalho do dataset\n",
        "print(dataset.head())\n",
        "\n",
        "# Supondo que você tenha variáveis X e y para features e target\n",
        "# Exemplo:\n",
        "# X = dataset[['feature1', 'feature2', 'feature3']]\n",
        "# y = dataset['target']\n",
        "\n",
        "# Dividir o dataset em treino e teste\n",
        "X_train, X_test, y_train, y_test = train_test_split(X, y, test_size=0.2, random_state=42)\n",
        "\n",
        "# Treinar um modelo de regressão logística\n",
        "model = LogisticRegression()\n",
        "model.fit(X_train, y_train)\n",
        "\n",
        "# Fazer previsões\n",
        "y_pred = model.predict(X_test)\n",
        "\n",
        "# Gerar a matriz de confusão\n",
        "cm = confusion_matrix(y_test, y_pred)\n",
        "\n",
        "# Exibir a matriz de confusão\n",
        "disp = ConfusionMatrixDisplay(confusion_matrix=cm)\n",
        "disp.plot()\n",
        "plt.show()"
      ]
    }
  ],
  "metadata": {
    "colab": {
      "provenance": []
    },
    "kernelspec": {
      "display_name": "Python 3",
      "language": "python",
      "name": "python3"
    },
    "language_info": {
      "codemirror_mode": {
        "name": "ipython",
        "version": 3
      },
      "file_extension": ".py",
      "mimetype": "text/x-python",
      "name": "python",
      "nbconvert_exporter": "python",
      "pygments_lexer": "ipython3",
      "version": "3.12.6"
    }
  },
  "nbformat": 4,
  "nbformat_minor": 0
}
